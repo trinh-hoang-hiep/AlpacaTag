{
 "cells": [
  {
   "cell_type": "markdown",
   "metadata": {
    "collapsed": true,
    "pycharm": {
     "is_executing": false
    }
   },
   "source": []
  },
  {
   "cell_type": "code",
   "execution_count": 1,
   "metadata": {
    "pycharm": {
     "is_executing": true
    }
   },
   "outputs": [
    {
     "data": {
      "text/plain": [
       "181614"
      ]
     },
     "execution_count": 1,
     "metadata": {},
     "output_type": "execute_result"
    }
   ],
   "source": [
    "from alpaca_client.alpaca_serving.client import *\n",
    "from alpaca_server.alpaca_model.pytorchAPI import *\n",
    "x_train, y_train = utils.load_data_and_labels('com.bio')#vlsp\n",
    "sent = x_train[0:10000]#300036\n",
    "label = y_train[0:10000]\n",
    "len(x_train)"
   ]
  },
  {
   "cell_type": "code",
   "execution_count": 2,
   "metadata": {
    "pycharm": {
     "is_executing": false,
     "metadata": false,
     "name": "#%% !ls\n"
    }
   },
   "outputs": [],
   "source": [
    "ac = AlpacaClient()"
   ]
  },
  {
   "cell_type": "code",
   "execution_count": 3,
   "metadata": {
    "pycharm": {}
   },
   "outputs": [
    {
     "data": {
      "text/plain": [
       "'Model Loaded'"
      ]
     },
     "execution_count": 3,
     "metadata": {},
     "output_type": "execute_result"
    }
   ],
   "source": [
    "ac.initiate(38)#25"
   ]
  },
  {
   "cell_type": "code",
   "execution_count": 4,
   "metadata": {
    "pycharm": {}
   },
   "outputs": [
    {
     "data": {
      "text/plain": [
       "'Online word build completed'"
      ]
     },
     "execution_count": 4,
     "metadata": {},
     "output_type": "execute_result"
    }
   ],
   "source": [
    "# ac.online_initiate(x_train[:50], [['B-PER', 'I-PER', 'B-LOC', 'I-LOC', 'B-ORG', 'I-ORG', 'B-MISC', 'I-MISC', 'O']])"
   ]
  },
  {
   "cell_type": "code",
   "execution_count": 14,
   "metadata": {
    "pycharm": {}
   },
   "outputs": [
    {
     "data": {
      "text/plain": [
       "'Online learning completed'"
      ]
     },
     "execution_count": 14,
     "metadata": {},
     "output_type": "execute_result"
    }
   ],
   "source": [
    "# ac.online_learning(x_train[:50],y_train[:50],epoch=5,batch=5)"
   ]
  },
  {
   "cell_type": "code",
   "execution_count": 6,
   "metadata": {
    "pycharm": {}
   },
   "outputs": [
    {
     "data": {
      "text/plain": [
       "{'words': ['Paris', 'and', 'New', 'York', 'and', 'Los', 'Angeles'],\n",
       " 'entities': [],\n",
       " 'tags': [['O', 'O', 'O', 'O', 'O', 'O', 'O']]}"
      ]
     },
     "execution_count": 6,
     "metadata": {},
     "output_type": "execute_result"
    }
   ],
   "source": [
    "# ac.predict(\"Paris and New York and Los Angeles\")"
   ]
  },
  {
   "cell_type": "code",
   "execution_count": 4,
   "metadata": {},
   "outputs": [
    {
     "data": {
      "text/plain": [
       "{'words': ['EU',\n",
       "  'rejects',\n",
       "  'German',\n",
       "  'call',\n",
       "  'to',\n",
       "  'boycott',\n",
       "  'British',\n",
       "  'lamb',\n",
       "  '.'],\n",
       " 'entities': [{'text': 'call',\n",
       "   'type': 'MISC',\n",
       "   'beginOffset': 3,\n",
       "   'endOffset': 4},\n",
       "  {'text': 'lamb', 'type': 'LOC', 'beginOffset': 7, 'endOffset': 8},\n",
       "  {'text': '.', 'type': 'MICS', 'beginOffset': 8, 'endOffset': 9}],\n",
       " 'tags': [['O', 'O', 'O', 'I-MISC', 'O', 'O', 'O', 'I-LOC', 'B-MICS']]}"
      ]
     },
     "execution_count": 4,
     "metadata": {},
     "output_type": "execute_result"
    }
   ],
   "source": [
    "ac.predict(\"EU rejects German call to boycott British lamb.\")"
   ]
  },
  {
   "cell_type": "code",
   "execution_count": null,
   "metadata": {
    "pycharm": {}
   },
   "outputs": [],
   "source": [
    "ac.online_learning(sent,label,epoch=20, batch=64)#1 500 34 10 35 100 32 -> 300000*100=30 trieu"
   ]
  },
  {
   "cell_type": "code",
   "execution_count": 7,
   "metadata": {
    "pycharm": {}
   },
   "outputs": [
    {
     "data": {
      "text/plain": [
       "{'words': ['English_lamb'], 'entities': [], 'tags': [['O']]}"
      ]
     },
     "execution_count": 7,
     "metadata": {},
     "output_type": "execute_result"
    }
   ],
   "source": [
    "ac.predict(\"English lamb\")"
   ]
  },
  {
   "cell_type": "code",
   "execution_count": 18,
   "metadata": {},
   "outputs": [
    {
     "data": {
      "text/plain": [
       "{'words': ['Gloria',\n",
       "  'Bistrita',\n",
       "  '(',\n",
       "  'Romania',\n",
       "  ')',\n",
       "  'beat',\n",
       "  '2',\n",
       "  '-',\n",
       "  '1',\n",
       "  '(',\n",
       "  'halftime',\n",
       "  '1',\n",
       "  '-',\n",
       "  '1',\n",
       "  ')',\n",
       "  'F.C.',\n",
       "  'Valletta',\n",
       "  '(',\n",
       "  'Malta',\n",
       "  ')',\n",
       "  'in',\n",
       "  'their',\n",
       "  'Cup',\n",
       "  'winners',\n",
       "  'Cup',\n",
       "  'match',\n",
       "  ',',\n",
       "  'second',\n",
       "  'leg',\n",
       "  'of',\n",
       "  'the',\n",
       "  'preliminary',\n",
       "  'round',\n",
       "  ',',\n",
       "  'on',\n",
       "  'Thursday',\n",
       "  '.'],\n",
       " 'entities': [{'text': 'Gloria Bistrita',\n",
       "   'type': 'PER',\n",
       "   'beginOffset': 0,\n",
       "   'endOffset': 2},\n",
       "  {'text': 'Romania', 'type': 'MISC', 'beginOffset': 3, 'endOffset': 4},\n",
       "  {'text': 'F.C. Valletta', 'type': 'ORG', 'beginOffset': 15, 'endOffset': 17},\n",
       "  {'text': 'Malta', 'type': 'MISC', 'beginOffset': 18, 'endOffset': 19},\n",
       "  {'text': 'Cup', 'type': 'ORG', 'beginOffset': 24, 'endOffset': 25}],\n",
       " 'tags': [['B-PER',\n",
       "   'I-PER',\n",
       "   'O',\n",
       "   'B-MISC',\n",
       "   'O',\n",
       "   'O',\n",
       "   'O',\n",
       "   'O',\n",
       "   'O',\n",
       "   'O',\n",
       "   'O',\n",
       "   'O',\n",
       "   'O',\n",
       "   'O',\n",
       "   'O',\n",
       "   'B-ORG',\n",
       "   'I-ORG',\n",
       "   'O',\n",
       "   'B-MISC',\n",
       "   'O',\n",
       "   'O',\n",
       "   'O',\n",
       "   'O',\n",
       "   'O',\n",
       "   'B-ORG',\n",
       "   'O',\n",
       "   'O',\n",
       "   'O',\n",
       "   'O',\n",
       "   'O',\n",
       "   'O',\n",
       "   'O',\n",
       "   'O',\n",
       "   'O',\n",
       "   'O',\n",
       "   'O',\n",
       "   'O']]}"
      ]
     },
     "execution_count": 18,
     "metadata": {},
     "output_type": "execute_result"
    }
   ],
   "source": [
    "ac.predict(\"Gloria Bistrita ( Romania ) beat 2 - 1 ( halftime 1 - 1 ) F.C. Valletta ( Malta ) in their Cup winners Cup match , second leg of the preliminary round , on Thursday .\")"
   ]
  },
  {
   "cell_type": "code",
   "execution_count": 11,
   "metadata": {
    "pycharm": {
     "is_executing": false
    }
   },
   "outputs": [],
   "source": [
    "# ac.online_learning(sent,label)"
   ]
  },
  {
   "cell_type": "code",
   "execution_count": 8,
   "metadata": {
    "pycharm": {}
   },
   "outputs": [
    {
     "data": {
      "text/plain": [
       "{'indices': [15612, 14979],\n",
       " 'scores': [-0.3720378875732422, -0.3574099540710449]}"
      ]
     },
     "execution_count": 8,
     "metadata": {},
     "output_type": "execute_result"
    }
   ],
   "source": [
    "ac.active_learning(x_train[:300036],2)"
   ]
  },
  {
   "cell_type": "code",
   "execution_count": 8,
   "metadata": {
    "pycharm": {}
   },
   "outputs": [
    {
     "data": {
      "text/plain": [
       "{'words': ['Experimental',\n",
       "  'results',\n",
       "  'show',\n",
       "  'that',\n",
       "  'PhoBERT',\n",
       "  'consistently',\n",
       "  'outperforms',\n",
       "  'the',\n",
       "  'recent',\n",
       "  'best',\n",
       "  'pre',\n",
       "  '-',\n",
       "  'trained',\n",
       "  'multilingual',\n",
       "  'model',\n",
       "  'XLM',\n",
       "  '-',\n",
       "  'R',\n",
       "  '(',\n",
       "  'Conneau',\n",
       "  'et',\n",
       "  'al',\n",
       "  '.'],\n",
       " 'entities': [{'text': 'PhoBERT',\n",
       "   'type': 'ORG',\n",
       "   'beginOffset': 4,\n",
       "   'endOffset': 5},\n",
       "  {'text': 'outperforms', 'type': 'ORG', 'beginOffset': 6, 'endOffset': 7},\n",
       "  {'text': '-', 'type': 'ORG', 'beginOffset': 11, 'endOffset': 12},\n",
       "  {'text': 'XLM', 'type': 'ORG', 'beginOffset': 15, 'endOffset': 16},\n",
       "  {'text': '-', 'type': 'ORG', 'beginOffset': 16, 'endOffset': 17}],\n",
       " 'tags': [['O',\n",
       "   'O',\n",
       "   'O',\n",
       "   'O',\n",
       "   'B-ORG',\n",
       "   'O',\n",
       "   'B-ORG',\n",
       "   'O',\n",
       "   'O',\n",
       "   'O',\n",
       "   'O',\n",
       "   'B-ORG',\n",
       "   'O',\n",
       "   'O',\n",
       "   'O',\n",
       "   'B-ORG',\n",
       "   'B-ORG',\n",
       "   'O',\n",
       "   'O',\n",
       "   'O',\n",
       "   'O',\n",
       "   'O',\n",
       "   'O']]}"
      ]
     },
     "execution_count": 8,
     "metadata": {},
     "output_type": "execute_result"
    }
   ],
   "source": [
    "ac.predict(\"Experimental results show that PhoBERT consistently outperforms the recent best pre-trained multilingual model XLM-R (Conneau et al.\")"
   ]
  },
  {
   "cell_type": "code",
   "execution_count": null,
   "metadata": {
    "pycharm": {}
   },
   "outputs": [],
   "source": []
  },
  {
   "cell_type": "code",
   "execution_count": null,
   "metadata": {
    "pycharm": {}
   },
   "outputs": [],
   "source": []
  },
  {
   "cell_type": "code",
   "execution_count": null,
   "metadata": {
    "pycharm": {}
   },
   "outputs": [],
   "source": []
  },
  {
   "cell_type": "code",
   "execution_count": null,
   "metadata": {
    "pycharm": {}
   },
   "outputs": [],
   "source": []
  }
 ],
 "metadata": {
  "kernelspec": {
   "display_name": "Python 3",
   "language": "python",
   "name": "python3"
  },
  "language_info": {
   "codemirror_mode": {
    "name": "ipython",
    "version": 3
   },
   "file_extension": ".py",
   "mimetype": "text/x-python",
   "name": "python",
   "nbconvert_exporter": "python",
   "pygments_lexer": "ipython3",
   "version": "3.6.5"
  }
 },
 "nbformat": 4,
 "nbformat_minor": 1
}
